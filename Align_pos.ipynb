{
 "cells": [
  {
   "cell_type": "code",
   "execution_count": 1,
   "metadata": {},
   "outputs": [],
   "source": [
    "# In this code, we go through the ALN files generated via ART simulator.\n",
    "# Map them to positions and write to txt file"
   ]
  },
  {
   "cell_type": "code",
   "execution_count": 2,
   "metadata": {},
   "outputs": [],
   "source": [
    "# Function to read alignment file and store only the aln_start_pos and ref_seq_strand (+/-)\n",
    "def read_aln(file):\n",
    "    i = 0\n",
    "    f = open(file, 'r')\n",
    "    indices = \"\"\n",
    "    for line in f.readlines():\n",
    "        i += 1\n",
    "        if (i > 4 and (i + 1) % 3 == 0): # position of start_pos and ref_strand\n",
    "            # print(i, line)\n",
    "            indices += (line[::-1][0:10])[::-1]\n",
    "    \n",
    "    return indices"
   ]
  },
  {
   "cell_type": "code",
   "execution_count": 6,
   "metadata": {},
   "outputs": [],
   "source": [
    "# Function to process the index file\n",
    "def positions(idx):\n",
    "    pos_ = [[] for i in range(len(idx))]\n",
    "    for i in range(len(idx)):\n",
    "        # 1st char = tab\n",
    "        if idx[i][0] == '\\t':\n",
    "            temp = idx[i][1:]\n",
    "            idx[i] = temp\n",
    "        # 2nd char = tab\n",
    "        if idx[i][1] == '\\t':\n",
    "            temp = idx[i][2:]\n",
    "            idx[i] = temp\n",
    "        # 3rd char = tab\n",
    "        elif idx[i][2] == '\\t':\n",
    "            temp = idx[i][3:]\n",
    "            idx[i] = temp\n",
    "        # 4th char = tab\n",
    "        elif idx[i][3] == '\\t':\n",
    "            temp = idx[i][4:]\n",
    "            idx[i] = temp\n",
    "        # 5th char = tab\n",
    "        elif idx[i][4] == '\\t':\n",
    "            temp = idx[i][5:]\n",
    "            idx[i] = temp\n",
    "        # 6th char = tab\n",
    "        elif idx[i][5] == '\\t':\n",
    "            temp = idx[i][6:]\n",
    "            idx[i] = temp\n",
    "    \n",
    "        if(idx[i] != ''): # find the relative start pos and the strand (+/-) \n",
    "            rel_index = int(idx[i][0 : len(idx[i]) - 2])\n",
    "            strand = idx[i][-1]\n",
    "    \n",
    "        # read_len = 70\n",
    "        # total_len = 9520930\n",
    "        if strand == \"+\":\n",
    "            # print(\"Index: \", rel_index, rel_index + 70)\n",
    "            temp = []\n",
    "            temp.append(rel_index)\n",
    "            temp.append(rel_index + 70)\n",
    "            pos_[i].append(temp)\n",
    "        elif strand == \"-\":\n",
    "            # print(\"Index: \", (9520930 - (rel_index + 70)), (9520930 - rel_index))\n",
    "            temp = []\n",
    "            temp.append(9520930 - (rel_index + 70))\n",
    "            temp.append(9520930 - rel_index)\n",
    "            pos_[i].append(temp)\n",
    "            \n",
    "    return pos_"
   ]
  },
  {
   "cell_type": "code",
   "execution_count": 7,
   "metadata": {},
   "outputs": [],
   "source": [
    "# Function to write pos_ to file\n",
    "def write_pos(pos_, file):\n",
    "    f = open(file, 'w')\n",
    "    for i in range(len(pos_)):\n",
    "        f.write(\"%d\\t%d\\n\" % (pos_[i][0][0], pos_[i][0][1]))\n",
    "        \n",
    "    print(\"File written\")"
   ]
  },
  {
   "cell_type": "code",
   "execution_count": 8,
   "metadata": {},
   "outputs": [
    {
     "data": {
      "text/plain": [
       "680065"
      ]
     },
     "execution_count": 8,
     "metadata": {},
     "output_type": "execute_result"
    }
   ],
   "source": [
    "ind_1 = read_aln('Alignments/out.aln')\n",
    "idx_1 = ind_1.strip().split('\\n')\n",
    "len(idx_1)"
   ]
  },
  {
   "cell_type": "code",
   "execution_count": 9,
   "metadata": {},
   "outputs": [
    {
     "name": "stdout",
     "output_type": "stream",
     "text": [
      "File written\n"
     ]
    }
   ],
   "source": [
    "pos_1 = positions(idx_1)\n",
    "write_pos(pos_1, 'Positions/pos.txt')"
   ]
  },
  {
   "cell_type": "code",
   "execution_count": 10,
   "metadata": {},
   "outputs": [
    {
     "name": "stdout",
     "output_type": "stream",
     "text": [
      "File written\n"
     ]
    }
   ],
   "source": [
    "ind_2 = read_aln('Alignments/out_2.aln')\n",
    "idx_2 = ind_2.strip().split('\\n')\n",
    "pos_2 = positions(idx_2)\n",
    "write_pos(pos_2, 'Positions/pos_2.txt')"
   ]
  },
  {
   "cell_type": "code",
   "execution_count": 11,
   "metadata": {},
   "outputs": [
    {
     "name": "stdout",
     "output_type": "stream",
     "text": [
      "File written\n"
     ]
    }
   ],
   "source": [
    "ind_3 = read_aln('Alignments/out_3.aln')\n",
    "idx_3 = ind_3.strip().split('\\n')\n",
    "pos_3 = positions(idx_3)\n",
    "write_pos(pos_3, 'Positions/pos_3.txt')"
   ]
  },
  {
   "cell_type": "code",
   "execution_count": 12,
   "metadata": {},
   "outputs": [
    {
     "name": "stdout",
     "output_type": "stream",
     "text": [
      "File written\n"
     ]
    }
   ],
   "source": [
    "ind_4 = read_aln('Alignments/out_4.aln')\n",
    "idx_4 = ind_4.strip().split('\\n')\n",
    "pos_4 = positions(idx_4)\n",
    "write_pos(pos_4, 'Positions/pos_4.txt')"
   ]
  },
  {
   "cell_type": "code",
   "execution_count": 13,
   "metadata": {},
   "outputs": [
    {
     "name": "stdout",
     "output_type": "stream",
     "text": [
      "File written\n"
     ]
    }
   ],
   "source": [
    "ind_5 = read_aln('Alignments/out_5.aln')\n",
    "idx_5 = ind_5.strip().split('\\n')\n",
    "pos_5 = positions(idx_5)\n",
    "write_pos(pos_5, 'Positions/pos_5.txt')"
   ]
  },
  {
   "cell_type": "code",
   "execution_count": null,
   "metadata": {},
   "outputs": [],
   "source": []
  }
 ],
 "metadata": {
  "kernelspec": {
   "display_name": "Python 3",
   "language": "python",
   "name": "python3"
  },
  "language_info": {
   "codemirror_mode": {
    "name": "ipython",
    "version": 3
   },
   "file_extension": ".py",
   "mimetype": "text/x-python",
   "name": "python",
   "nbconvert_exporter": "python",
   "pygments_lexer": "ipython3",
   "version": "3.7.3"
  }
 },
 "nbformat": 4,
 "nbformat_minor": 2
}
