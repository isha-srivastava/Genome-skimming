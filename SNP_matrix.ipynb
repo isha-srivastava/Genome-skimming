{
 "cells": [
  {
   "cell_type": "code",
   "execution_count": 1,
   "metadata": {},
   "outputs": [],
   "source": [
    "# Code to read the FASTA files and generate the SNP matrix from them"
   ]
  },
  {
   "cell_type": "code",
   "execution_count": 2,
   "metadata": {},
   "outputs": [],
   "source": [
    "def read_fasta(file):\n",
    "    f = open(file, 'r')\n",
    "    temp = \"\"\n",
    "    for line in f.readlines():\n",
    "        temp += line\n",
    "    ind = \"\"\n",
    "    genes = ['A', 'C', 'G', 'T']\n",
    "    for i in range(len(temp)):\n",
    "        if temp[i] in genes:\n",
    "            ind += temp[i]\n",
    "            \n",
    "    return ind"
   ]
  },
  {
   "cell_type": "code",
   "execution_count": 3,
   "metadata": {},
   "outputs": [
    {
     "data": {
      "text/plain": [
       "9520930"
      ]
     },
     "execution_count": 3,
     "metadata": {},
     "output_type": "execute_result"
    }
   ],
   "source": [
    "ind_1 = read_fasta('Ind_seq/ind1.fa')\n",
    "len(ind_1)"
   ]
  },
  {
   "cell_type": "code",
   "execution_count": 4,
   "metadata": {},
   "outputs": [
    {
     "data": {
      "text/plain": [
       "9520930"
      ]
     },
     "execution_count": 4,
     "metadata": {},
     "output_type": "execute_result"
    }
   ],
   "source": [
    "ind_2 = read_fasta('Ind_seq/ind2.fa')\n",
    "len(ind_2)"
   ]
  },
  {
   "cell_type": "code",
   "execution_count": 5,
   "metadata": {},
   "outputs": [
    {
     "data": {
      "text/plain": [
       "9520930"
      ]
     },
     "execution_count": 5,
     "metadata": {},
     "output_type": "execute_result"
    }
   ],
   "source": [
    "ind_3 = read_fasta('Ind_seq/ind3.fa')\n",
    "len(ind_3)"
   ]
  },
  {
   "cell_type": "code",
   "execution_count": 6,
   "metadata": {},
   "outputs": [
    {
     "data": {
      "text/plain": [
       "9520930"
      ]
     },
     "execution_count": 6,
     "metadata": {},
     "output_type": "execute_result"
    }
   ],
   "source": [
    "ind_4 = read_fasta('Ind_seq/ind4.fa')\n",
    "len(ind_4)"
   ]
  },
  {
   "cell_type": "code",
   "execution_count": 7,
   "metadata": {},
   "outputs": [
    {
     "data": {
      "text/plain": [
       "9520930"
      ]
     },
     "execution_count": 7,
     "metadata": {},
     "output_type": "execute_result"
    }
   ],
   "source": [
    "ind_5 = read_fasta('Ind_seq/ind5.fa')\n",
    "len(ind_5)"
   ]
  },
  {
   "cell_type": "code",
   "execution_count": 8,
   "metadata": {},
   "outputs": [
    {
     "data": {
      "text/plain": [
       "9520930"
      ]
     },
     "execution_count": 8,
     "metadata": {},
     "output_type": "execute_result"
    }
   ],
   "source": [
    "from Bio import SeqIO\n",
    "\n",
    "input_file = 'Priacma_serrata.fa'\n",
    "fasta_sequences = SeqIO.parse(open(input_file), 'fasta')\n",
    "bp = 0 # base pairs\n",
    "ref_genome = \"\"\n",
    "\n",
    "for fasta in fasta_sequences:\n",
    "    name, sequence = fasta.id, str(fasta.seq)\n",
    "    bp += len(sequence)\n",
    "    ref_genome += sequence\n",
    "\n",
    "len(ref_genome)"
   ]
  },
  {
   "cell_type": "code",
   "execution_count": 9,
   "metadata": {},
   "outputs": [],
   "source": [
    "# Functio to count mutations for each individual wrt reference genome\n",
    "def count_mut(ref_genome, ind):\n",
    "    diff = 0\n",
    "    for i in range(len(ref_genome)):\n",
    "        if ref_genome[i] != ind[i]:\n",
    "            diff += 1\n",
    "    \n",
    "    print(\"Differences in the 2 genome sequences: \", diff)"
   ]
  },
  {
   "cell_type": "code",
   "execution_count": 10,
   "metadata": {},
   "outputs": [
    {
     "name": "stdout",
     "output_type": "stream",
     "text": [
      "Differences in the 2 genome sequences:  244\n"
     ]
    }
   ],
   "source": [
    "count_mut(ref_genome, ind_1)"
   ]
  },
  {
   "cell_type": "code",
   "execution_count": 11,
   "metadata": {},
   "outputs": [
    {
     "name": "stdout",
     "output_type": "stream",
     "text": [
      "Differences in the 2 genome sequences:  244\n"
     ]
    }
   ],
   "source": [
    "count_mut(ref_genome, ind_2)"
   ]
  },
  {
   "cell_type": "code",
   "execution_count": 12,
   "metadata": {},
   "outputs": [
    {
     "name": "stdout",
     "output_type": "stream",
     "text": [
      "Differences in the 2 genome sequences:  257\n"
     ]
    }
   ],
   "source": [
    "count_mut(ref_genome, ind_3)"
   ]
  },
  {
   "cell_type": "code",
   "execution_count": 13,
   "metadata": {},
   "outputs": [
    {
     "name": "stdout",
     "output_type": "stream",
     "text": [
      "Differences in the 2 genome sequences:  230\n"
     ]
    }
   ],
   "source": [
    "count_mut(ref_genome, ind_4)"
   ]
  },
  {
   "cell_type": "code",
   "execution_count": 14,
   "metadata": {},
   "outputs": [
    {
     "name": "stdout",
     "output_type": "stream",
     "text": [
      "Differences in the 2 genome sequences:  250\n"
     ]
    }
   ],
   "source": [
    "count_mut(ref_genome, ind_5)"
   ]
  },
  {
   "cell_type": "code",
   "execution_count": 15,
   "metadata": {},
   "outputs": [
    {
     "data": {
      "text/plain": [
       "[[], [], [], [], [], []]"
      ]
     },
     "execution_count": 15,
     "metadata": {},
     "output_type": "execute_result"
    }
   ],
   "source": [
    "# Create SNP matrix for polymorphic loci\n",
    "snp = [[] for i in range(6)] # 5 individuals + 1 row to keep account of the positions\n",
    "snp"
   ]
  },
  {
   "cell_type": "code",
   "execution_count": 16,
   "metadata": {},
   "outputs": [
    {
     "name": "stdout",
     "output_type": "stream",
     "text": [
      "1225\n",
      "6 1225\n"
     ]
    }
   ],
   "source": [
    "mut = 0\n",
    "\n",
    "for i in range(len(ref_genome)):\n",
    "    ref = ref_genome[i] # ancestral gene\n",
    "    ind = [ind_1[i], ind_2[i], ind_3[i], ind_4[i], ind_5[i]]\n",
    "    if set(ind) != set(ref): # mutation\n",
    "        # print(ref, \" | \", ind)\n",
    "        snp[0].append(i) # position\n",
    "        for j in range(5):\n",
    "            if ind[j] == ref:\n",
    "                snp[j+1].append(0)\n",
    "            else: \n",
    "                snp[j+1].append(1)\n",
    "                mut += 1\n",
    "\n",
    "print(mut) # 1225 = sum of all mutations\n",
    "print(len(snp), len(snp[0]))"
   ]
  },
  {
   "cell_type": "code",
   "execution_count": 17,
   "metadata": {},
   "outputs": [
    {
     "name": "stdout",
     "output_type": "stream",
     "text": [
      "For the SNP matrix, number of polymorphic sites:  1225\n"
     ]
    }
   ],
   "source": [
    "print(\"For the SNP matrix, number of polymorphic sites: \", len(snp[0]))"
   ]
  },
  {
   "cell_type": "code",
   "execution_count": null,
   "metadata": {},
   "outputs": [],
   "source": []
  }
 ],
 "metadata": {
  "kernelspec": {
   "display_name": "Python 3",
   "language": "python",
   "name": "python3"
  },
  "language_info": {
   "codemirror_mode": {
    "name": "ipython",
    "version": 3
   },
   "file_extension": ".py",
   "mimetype": "text/x-python",
   "name": "python",
   "nbconvert_exporter": "python",
   "pygments_lexer": "ipython3",
   "version": "3.7.3"
  }
 },
 "nbformat": 4,
 "nbformat_minor": 2
}
