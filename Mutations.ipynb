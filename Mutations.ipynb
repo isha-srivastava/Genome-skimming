{
 "cells": [
  {
   "cell_type": "code",
   "execution_count": 1,
   "metadata": {},
   "outputs": [],
   "source": [
    "# In this code, we simulate 5 individuals by introducing random mutations in them.\n",
    "# Then write those sequences to FASTA files."
   ]
  },
  {
   "cell_type": "code",
   "execution_count": 2,
   "metadata": {},
   "outputs": [],
   "source": [
    "import Bio"
   ]
  },
  {
   "cell_type": "code",
   "execution_count": 3,
   "metadata": {},
   "outputs": [],
   "source": [
    "from Bio import SeqIO\n",
    "\n",
    "input_file = 'Priacma_serrata.fa'\n",
    "fasta_sequences = SeqIO.parse(open(input_file), 'fasta')"
   ]
  },
  {
   "cell_type": "code",
   "execution_count": 4,
   "metadata": {},
   "outputs": [
    {
     "name": "stdout",
     "output_type": "stream",
     "text": [
      "Base pairs:  9520930\n"
     ]
    }
   ],
   "source": [
    "bp = 0 # base pairs\n",
    "ref_genome = \"\"\n",
    "\n",
    "for fasta in fasta_sequences:\n",
    "    name, sequence = fasta.id, str(fasta.seq)\n",
    "    bp += len(sequence)\n",
    "    ref_genome += sequence\n",
    "\n",
    "print(\"Base pairs: \", bp)"
   ]
  },
  {
   "cell_type": "code",
   "execution_count": 5,
   "metadata": {},
   "outputs": [
    {
     "data": {
      "text/plain": [
       "9520930"
      ]
     },
     "execution_count": 5,
     "metadata": {},
     "output_type": "execute_result"
    }
   ],
   "source": [
    "len(ref_genome)"
   ]
  },
  {
   "cell_type": "code",
   "execution_count": 6,
   "metadata": {},
   "outputs": [],
   "source": [
    "# Introduce random mutations\n",
    "mu = 2.5 * 1e-5 # mutation rate"
   ]
  },
  {
   "cell_type": "code",
   "execution_count": 7,
   "metadata": {},
   "outputs": [],
   "source": [
    "# Function to introduce mutations\n",
    "def mutate(loci):\n",
    "    if loci == 'A':\n",
    "        return 'G'\n",
    "    elif loci == 'G':\n",
    "        return 'A'\n",
    "    elif loci == 'C':\n",
    "        return 'T'\n",
    "    elif loci == 'T':\n",
    "        return 'C'"
   ]
  },
  {
   "cell_type": "code",
   "execution_count": 12,
   "metadata": {},
   "outputs": [],
   "source": [
    "import random\n",
    "\n",
    "# Function to simulate an individual with mutations\n",
    "def mutate_ind(ref_genome):\n",
    "    count = 0\n",
    "    new_genome = \"\"\n",
    "    for i in range(len(ref_genome)):\n",
    "        if random.random() < mu: # random number generator\n",
    "            count += 1\n",
    "            flip = mutate(ref_genome[i]) # mutation\n",
    "            new_genome = new_genome + flip\n",
    "            # print(\"Original gene: \", ref_genome[i], \" | Mutated: \", new_genome[i])\n",
    "        else:\n",
    "            new_genome = new_genome + ref_genome[i]\n",
    "        \n",
    "    # print(\"Mutations: \", count)\n",
    "    # print(len(new_genome)) # sanity check\n",
    "    \n",
    "    return new_genome"
   ]
  },
  {
   "cell_type": "code",
   "execution_count": 13,
   "metadata": {},
   "outputs": [],
   "source": [
    "# Individual 1\n",
    "ind_1 = mutate_ind(ref_genome)"
   ]
  },
  {
   "cell_type": "code",
   "execution_count": 14,
   "metadata": {},
   "outputs": [],
   "source": [
    "# Individual 2\n",
    "ind_2 = mutate_ind(ref_genome)"
   ]
  },
  {
   "cell_type": "code",
   "execution_count": 15,
   "metadata": {},
   "outputs": [],
   "source": [
    "# Individual 3\n",
    "ind_3 = mutate_ind(ref_genome)"
   ]
  },
  {
   "cell_type": "code",
   "execution_count": 16,
   "metadata": {},
   "outputs": [],
   "source": [
    "# Individual 4\n",
    "ind_4 = mutate_ind(ref_genome)"
   ]
  },
  {
   "cell_type": "code",
   "execution_count": 17,
   "metadata": {},
   "outputs": [],
   "source": [
    "# Individual 5\n",
    "ind_5 = mutate_ind(ref_genome)"
   ]
  },
  {
   "cell_type": "code",
   "execution_count": 18,
   "metadata": {},
   "outputs": [],
   "source": [
    "# Function to write sequences to FASTA file format\n",
    "def write_fasta(outfile, ind):\n",
    "    f = open(outfile, \"w\")\n",
    "    f.write('>seq1\\n') # Only 1 sequence\n",
    "    for i in range(0, len(ind)):\n",
    "        if i != 0 and i % 70 == 0: # limit set at 70\n",
    "            f.write(\"\\n\")\n",
    "        f.write(ind[i])\n",
    "    f.write(\"\\n\")\n",
    "    f.close()"
   ]
  },
  {
   "cell_type": "code",
   "execution_count": 19,
   "metadata": {},
   "outputs": [],
   "source": [
    "write_fasta(\"Ind_seq/ind1.fa\", ind_1)"
   ]
  },
  {
   "cell_type": "code",
   "execution_count": 20,
   "metadata": {},
   "outputs": [],
   "source": [
    "write_fasta(\"Ind_seq/ind2.fa\", ind_2)"
   ]
  },
  {
   "cell_type": "code",
   "execution_count": 21,
   "metadata": {},
   "outputs": [],
   "source": [
    "write_fasta(\"Ind_seq/ind3.fa\", ind_3)"
   ]
  },
  {
   "cell_type": "code",
   "execution_count": 22,
   "metadata": {},
   "outputs": [],
   "source": [
    "write_fasta(\"Ind_seq/ind4.fa\", ind_4)"
   ]
  },
  {
   "cell_type": "code",
   "execution_count": 23,
   "metadata": {},
   "outputs": [],
   "source": [
    "write_fasta(\"Ind_seq/ind5.fa\", ind_5)"
   ]
  }
 ],
 "metadata": {
  "kernelspec": {
   "display_name": "Python 3",
   "language": "python",
   "name": "python3"
  },
  "language_info": {
   "codemirror_mode": {
    "name": "ipython",
    "version": 3
   },
   "file_extension": ".py",
   "mimetype": "text/x-python",
   "name": "python",
   "nbconvert_exporter": "python",
   "pygments_lexer": "ipython3",
   "version": "3.7.3"
  }
 },
 "nbformat": 4,
 "nbformat_minor": 2
}
