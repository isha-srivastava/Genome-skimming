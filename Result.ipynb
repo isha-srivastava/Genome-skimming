{
 "cells": [
  {
   "cell_type": "code",
   "execution_count": 1,
   "metadata": {},
   "outputs": [],
   "source": [
    "# Code putting it all together - find polymorphic sites covered"
   ]
  },
  {
   "cell_type": "code",
   "execution_count": 3,
   "metadata": {},
   "outputs": [
    {
     "name": "stdout",
     "output_type": "stream",
     "text": [
      "Collecting ipynb\n",
      "  Downloading https://files.pythonhosted.org/packages/31/42/4c0bbb66390e3a68e04ebf134c8d074a00c18b5882293f8ace5f7497fbf0/ipynb-0.5.1-py3-none-any.whl\n",
      "Installing collected packages: ipynb\n",
      "Successfully installed ipynb-0.5.1\n"
     ]
    }
   ],
   "source": [
    "!pip install ipynb --user"
   ]
  },
  {
   "cell_type": "code",
   "execution_count": 5,
   "metadata": {},
   "outputs": [
    {
     "name": "stdout",
     "output_type": "stream",
     "text": [
      "Differences in the 2 genome sequences:  244\n",
      "Differences in the 2 genome sequences:  244\n",
      "Differences in the 2 genome sequences:  257\n",
      "Differences in the 2 genome sequences:  230\n",
      "Differences in the 2 genome sequences:  250\n",
      "1225\n",
      "6 1225\n",
      "For the SNP matrix, number of polymorphic sites:  1225\n"
     ]
    }
   ],
   "source": [
    "from ipynb.fs.full.SNP_matrix import read_fasta"
   ]
  },
  {
   "cell_type": "code",
   "execution_count": 6,
   "metadata": {},
   "outputs": [],
   "source": [
    "ind_1 = read_fasta('Ind_seq/ind1.fa')\n",
    "ind_2 = read_fasta('Ind_seq/ind2.fa')\n",
    "ind_3 = read_fasta('Ind_seq/ind3.fa')\n",
    "ind_4 = read_fasta('Ind_seq/ind4.fa')\n",
    "ind_5 = read_fasta('Ind_seq/ind5.fa')"
   ]
  },
  {
   "cell_type": "code",
   "execution_count": 7,
   "metadata": {},
   "outputs": [
    {
     "data": {
      "text/plain": [
       "9520930"
      ]
     },
     "execution_count": 7,
     "metadata": {},
     "output_type": "execute_result"
    }
   ],
   "source": [
    "from Bio import SeqIO\n",
    "\n",
    "input_file = 'Priacma_serrata.fa'\n",
    "fasta_sequences = SeqIO.parse(open(input_file), 'fasta')\n",
    "bp = 0 # base pairs\n",
    "ref_genome = \"\"\n",
    "\n",
    "for fasta in fasta_sequences:\n",
    "    name, sequence = fasta.id, str(fasta.seq)\n",
    "    bp += len(sequence)\n",
    "    ref_genome += sequence\n",
    "\n",
    "len(ref_genome)"
   ]
  },
  {
   "cell_type": "code",
   "execution_count": 8,
   "metadata": {},
   "outputs": [],
   "source": [
    "# Function to generate list of indices for mutations\n",
    "def mut_ind(ind, ref_genome):\n",
    "    mut = []\n",
    "    for i in range(len(ind)):\n",
    "        if ind[i] != ref_genome[i]:\n",
    "            mut.append(i)\n",
    "    \n",
    "    return mut"
   ]
  },
  {
   "cell_type": "code",
   "execution_count": 9,
   "metadata": {},
   "outputs": [
    {
     "data": {
      "text/plain": [
       "244"
      ]
     },
     "execution_count": 9,
     "metadata": {},
     "output_type": "execute_result"
    }
   ],
   "source": [
    "mut_1 = mut_ind(ind_1, ref_genome)\n",
    "len(mut_1)"
   ]
  },
  {
   "cell_type": "code",
   "execution_count": 10,
   "metadata": {},
   "outputs": [],
   "source": [
    "mut_2 = mut_ind(ind_2, ref_genome)\n",
    "mut_3 = mut_ind(ind_3, ref_genome)\n",
    "mut_4 = mut_ind(ind_4, ref_genome)\n",
    "mut_5 = mut_ind(ind_5, ref_genome)"
   ]
  },
  {
   "cell_type": "code",
   "execution_count": 11,
   "metadata": {},
   "outputs": [],
   "source": [
    "# Read position file\n",
    "def read_pos(file):\n",
    "    pos_ = []\n",
    "    f = open(file, 'r')\n",
    "    for line in f.readlines():\n",
    "        line = line.strip().split('\\t')\n",
    "        temp = []\n",
    "        temp.append(int(line[0]))\n",
    "        temp.append(int(line[1]))\n",
    "        pos_.append(temp)\n",
    "    \n",
    "    return pos_"
   ]
  },
  {
   "cell_type": "code",
   "execution_count": 12,
   "metadata": {},
   "outputs": [
    {
     "data": {
      "text/plain": [
       "680065"
      ]
     },
     "execution_count": 12,
     "metadata": {},
     "output_type": "execute_result"
    }
   ],
   "source": [
    "pos_1 = read_pos('Positions/pos.txt')\n",
    "len(pos_1)"
   ]
  },
  {
   "cell_type": "code",
   "execution_count": 13,
   "metadata": {},
   "outputs": [],
   "source": [
    "pos_2 = read_pos('Positions/pos_2.txt')\n",
    "pos_3 = read_pos('Positions/pos_3.txt')\n",
    "pos_4 = read_pos('Positions/pos_4.txt')\n",
    "pos_5 = read_pos('Positions/pos_5.txt')"
   ]
  },
  {
   "cell_type": "code",
   "execution_count": 15,
   "metadata": {},
   "outputs": [],
   "source": [
    "# Function to find how many indices in mut(original SNP matrix) are covered in pos(genome skim data)\n",
    "def compute_cov(mut, pos_):\n",
    "    covered = 0\n",
    "    for i in range(len(pos_)):\n",
    "        beg = pos_[i][0]\n",
    "        end = pos_[i][1]\n",
    "        for j in range(len(mut)):\n",
    "            current = mut[j]\n",
    "            if(current >= beg and current < end):\n",
    "                # print(current, \" is in range\\n\")\n",
    "                mut[j] = -1 # set value unusable for next iteration\n",
    "                covered += 1\n",
    "\n",
    "    print(\"Polymorphic sites covered: \", covered, \" | Total mutations: \", len(mut))"
   ]
  },
  {
   "cell_type": "code",
   "execution_count": 16,
   "metadata": {},
   "outputs": [
    {
     "name": "stdout",
     "output_type": "stream",
     "text": [
      "Polymorphic sites covered:  50  | Total mutations:  244\n"
     ]
    }
   ],
   "source": [
    "compute_cov(mut_1, pos_1)"
   ]
  },
  {
   "cell_type": "code",
   "execution_count": 17,
   "metadata": {},
   "outputs": [
    {
     "name": "stdout",
     "output_type": "stream",
     "text": [
      "Polymorphic sites covered:  71  | Total mutations:  244\n"
     ]
    }
   ],
   "source": [
    "compute_cov(mut_2, pos_2)"
   ]
  },
  {
   "cell_type": "code",
   "execution_count": 18,
   "metadata": {},
   "outputs": [
    {
     "name": "stdout",
     "output_type": "stream",
     "text": [
      "Polymorphic sites covered:  61  | Total mutations:  257\n"
     ]
    }
   ],
   "source": [
    "compute_cov(mut_3, pos_3)"
   ]
  },
  {
   "cell_type": "code",
   "execution_count": 19,
   "metadata": {},
   "outputs": [
    {
     "name": "stdout",
     "output_type": "stream",
     "text": [
      "Polymorphic sites covered:  58  | Total mutations:  230\n"
     ]
    }
   ],
   "source": [
    "compute_cov(mut_4, pos_4)"
   ]
  },
  {
   "cell_type": "code",
   "execution_count": 20,
   "metadata": {},
   "outputs": [
    {
     "name": "stdout",
     "output_type": "stream",
     "text": [
      "Polymorphic sites covered:  72  | Total mutations:  250\n"
     ]
    }
   ],
   "source": [
    "compute_cov(mut_5, pos_5)"
   ]
  },
  {
   "cell_type": "code",
   "execution_count": 21,
   "metadata": {},
   "outputs": [
    {
     "name": "stdout",
     "output_type": "stream",
     "text": [
      "[0.20491803278688525, 0.29098360655737704, 0.23735408560311283, 0.25217391304347825, 0.288]\n"
     ]
    }
   ],
   "source": [
    "# Generate graph\n",
    "covered = [50, 71, 61, 58, 72]\n",
    "total = [244, 244, 257, 230, 250]\n",
    "ratios = []\n",
    "\n",
    "for i in range(5):\n",
    "    ratios.append(covered[i]/total[i])\n",
    "\n",
    "print(ratios)"
   ]
  },
  {
   "cell_type": "code",
   "execution_count": 22,
   "metadata": {},
   "outputs": [
    {
     "data": {
      "text/plain": [
       "0.2546938775510204"
      ]
     },
     "execution_count": 22,
     "metadata": {},
     "output_type": "execute_result"
    }
   ],
   "source": [
    "overall = sum(covered)/sum(total)\n",
    "overall"
   ]
  },
  {
   "cell_type": "code",
   "execution_count": 23,
   "metadata": {},
   "outputs": [],
   "source": [
    "names = ['ind1', 'ind2', 'ind3', 'ind4', 'ind5']\n",
    "combined = [overall] * 5"
   ]
  },
  {
   "cell_type": "code",
   "execution_count": 24,
   "metadata": {},
   "outputs": [
    {
     "data": {
      "image/png": "[encoded data removed]",
      "text/plain": [
       "<Figure size 432x288 with 1 Axes>"
      ]
     },
     "metadata": {
      "needs_background": "light"
     },
     "output_type": "display_data"
    }
   ],
   "source": [
    "%matplotlib inline\n",
    "import matplotlib.pyplot as plt\n",
    "\n",
    "plt.plot(names, ratios, marker = 'o')\n",
    "plt.plot(names, combined, linestyle = '--')\n",
    "plt.ylim([0., 0.5])\n",
    "plt.xlabel('Individuals')\n",
    "plt.ylabel('Fraction of sites covered')\n",
    "plt.show()"
   ]
  },
  {
   "cell_type": "code",
   "execution_count": null,
   "metadata": {},
   "outputs": [],
   "source": []
  }
 ],
 "metadata": {
  "kernelspec": {
   "display_name": "Python 3",
   "language": "python",
   "name": "python3"
  },
  "language_info": {
   "codemirror_mode": {
    "name": "ipython",
    "version": 3
   },
   "file_extension": ".py",
   "mimetype": "text/x-python",
   "name": "python",
   "nbconvert_exporter": "python",
   "pygments_lexer": "ipython3",
   "version": "3.7.3"
  }
 },
 "nbformat": 4,
 "nbformat_minor": 2
}
